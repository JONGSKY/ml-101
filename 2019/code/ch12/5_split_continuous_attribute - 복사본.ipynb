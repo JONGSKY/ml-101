{
 "cells": [
  {
   "cell_type": "code",
   "execution_count": 1,
   "metadata": {},
   "outputs": [],
   "source": [
    "import pandas as pd \n",
    "import numpy as np "
   ]
  },
  {
   "cell_type": "code",
   "execution_count": 2,
   "metadata": {},
   "outputs": [
    {
     "data": {
      "text/html": [
       "<div>\n",
       "<style scoped>\n",
       "    .dataframe tbody tr th:only-of-type {\n",
       "        vertical-align: middle;\n",
       "    }\n",
       "\n",
       "    .dataframe tbody tr th {\n",
       "        vertical-align: top;\n",
       "    }\n",
       "\n",
       "    .dataframe thead th {\n",
       "        text-align: right;\n",
       "    }\n",
       "</style>\n",
       "<table border=\"1\" class=\"dataframe\">\n",
       "  <thead>\n",
       "    <tr style=\"text-align: right;\">\n",
       "      <th></th>\n",
       "      <th>ID</th>\n",
       "      <th>STREAM</th>\n",
       "      <th>SLOPE</th>\n",
       "      <th>ELEVATION</th>\n",
       "      <th>VEGETATION</th>\n",
       "    </tr>\n",
       "  </thead>\n",
       "  <tbody>\n",
       "    <tr>\n",
       "      <th>0</th>\n",
       "      <td>1</td>\n",
       "      <td>False</td>\n",
       "      <td>steep</td>\n",
       "      <td>3900</td>\n",
       "      <td>chapparal</td>\n",
       "    </tr>\n",
       "    <tr>\n",
       "      <th>1</th>\n",
       "      <td>2</td>\n",
       "      <td>True</td>\n",
       "      <td>moderate</td>\n",
       "      <td>300</td>\n",
       "      <td>riparian</td>\n",
       "    </tr>\n",
       "    <tr>\n",
       "      <th>2</th>\n",
       "      <td>3</td>\n",
       "      <td>True</td>\n",
       "      <td>steep</td>\n",
       "      <td>1500</td>\n",
       "      <td>riparian</td>\n",
       "    </tr>\n",
       "    <tr>\n",
       "      <th>3</th>\n",
       "      <td>4</td>\n",
       "      <td>False</td>\n",
       "      <td>steep</td>\n",
       "      <td>1200</td>\n",
       "      <td>chapparal</td>\n",
       "    </tr>\n",
       "    <tr>\n",
       "      <th>4</th>\n",
       "      <td>5</td>\n",
       "      <td>False</td>\n",
       "      <td>flat</td>\n",
       "      <td>4450</td>\n",
       "      <td>conifer</td>\n",
       "    </tr>\n",
       "    <tr>\n",
       "      <th>5</th>\n",
       "      <td>6</td>\n",
       "      <td>True</td>\n",
       "      <td>steep</td>\n",
       "      <td>5000</td>\n",
       "      <td>conifer</td>\n",
       "    </tr>\n",
       "    <tr>\n",
       "      <th>6</th>\n",
       "      <td>7</td>\n",
       "      <td>True</td>\n",
       "      <td>steep</td>\n",
       "      <td>3000</td>\n",
       "      <td>chapparal</td>\n",
       "    </tr>\n",
       "  </tbody>\n",
       "</table>\n",
       "</div>"
      ],
      "text/plain": [
       "   ID  STREAM     SLOPE  ELEVATION VEGETATION\n",
       "0   1   False     steep       3900  chapparal\n",
       "1   2    True  moderate        300   riparian\n",
       "2   3    True     steep       1500   riparian\n",
       "3   4   False     steep       1200  chapparal\n",
       "4   5   False      flat       4450    conifer\n",
       "5   6    True     steep       5000    conifer\n",
       "6   7    True     steep       3000  chapparal"
      ]
     },
     "execution_count": 2,
     "metadata": {},
     "output_type": "execute_result"
    }
   ],
   "source": [
    "pd_data = pd.read_csv(\n",
    "    './vegeterianl_dataset.csv',  delimiter=r\"\\s+\")\n",
    "pd_data.drop(\"ID\",axis=1)\n",
    "pd_data"
   ]
  },
  {
   "cell_type": "code",
   "execution_count": 12,
   "metadata": {},
   "outputs": [
    {
     "data": {
      "text/plain": [
       "array([[1, False, 'steep', 3900, 'chapparal'],\n",
       "       [2, True, 'moderate', 300, 'riparian'],\n",
       "       [3, True, 'steep', 1500, 'riparian'],\n",
       "       [4, False, 'steep', 1200, 'chapparal'],\n",
       "       [5, False, 'flat', 4450, 'conifer'],\n",
       "       [6, True, 'steep', 5000, 'conifer'],\n",
       "       [7, True, 'steep', 3000, 'chapparal']], dtype=object)"
      ]
     },
     "execution_count": 12,
     "metadata": {},
     "output_type": "execute_result"
    }
   ],
   "source": [
    "pd_data.values"
   ]
  },
  {
   "cell_type": "code",
   "execution_count": 109,
   "metadata": {},
   "outputs": [],
   "source": [
    "a = np.array([['absent',6,3,5],\n",
    "     ['absent',9,3,14],\n",
    "              ['present',8,4,5],\n",
    "              ['absent',2,5,1],\n",
    "              ['absent',1,4,15],\n",
    "              ['absent',1,2,16],\n",
    "              ['absent',5,2,17],\n",
    "              ['absent',3,3,16],\n",
    "              ['absent',7,2,16],\n",
    "              ['present',4,6,12]])"
   ]
  },
  {
   "cell_type": "code",
   "execution_count": 110,
   "metadata": {},
   "outputs": [],
   "source": [
    "pd_data = pd.DataFrame(a)"
   ]
  },
  {
   "cell_type": "code",
   "execution_count": 111,
   "metadata": {},
   "outputs": [],
   "source": [
    "pd_data.columns=[\"a\",\"b\",\"c\",\"d\"]"
   ]
  },
  {
   "cell_type": "code",
   "execution_count": 112,
   "metadata": {},
   "outputs": [
    {
     "data": {
      "text/html": [
       "<div>\n",
       "<style scoped>\n",
       "    .dataframe tbody tr th:only-of-type {\n",
       "        vertical-align: middle;\n",
       "    }\n",
       "\n",
       "    .dataframe tbody tr th {\n",
       "        vertical-align: top;\n",
       "    }\n",
       "\n",
       "    .dataframe thead th {\n",
       "        text-align: right;\n",
       "    }\n",
       "</style>\n",
       "<table border=\"1\" class=\"dataframe\">\n",
       "  <thead>\n",
       "    <tr style=\"text-align: right;\">\n",
       "      <th></th>\n",
       "      <th>a</th>\n",
       "      <th>b</th>\n",
       "      <th>c</th>\n",
       "      <th>d</th>\n",
       "    </tr>\n",
       "  </thead>\n",
       "  <tbody>\n",
       "    <tr>\n",
       "      <th>0</th>\n",
       "      <td>absent</td>\n",
       "      <td>6</td>\n",
       "      <td>3</td>\n",
       "      <td>5</td>\n",
       "    </tr>\n",
       "    <tr>\n",
       "      <th>1</th>\n",
       "      <td>absent</td>\n",
       "      <td>9</td>\n",
       "      <td>3</td>\n",
       "      <td>14</td>\n",
       "    </tr>\n",
       "    <tr>\n",
       "      <th>2</th>\n",
       "      <td>present</td>\n",
       "      <td>8</td>\n",
       "      <td>4</td>\n",
       "      <td>5</td>\n",
       "    </tr>\n",
       "    <tr>\n",
       "      <th>3</th>\n",
       "      <td>absent</td>\n",
       "      <td>2</td>\n",
       "      <td>5</td>\n",
       "      <td>1</td>\n",
       "    </tr>\n",
       "    <tr>\n",
       "      <th>4</th>\n",
       "      <td>absent</td>\n",
       "      <td>1</td>\n",
       "      <td>4</td>\n",
       "      <td>15</td>\n",
       "    </tr>\n",
       "    <tr>\n",
       "      <th>5</th>\n",
       "      <td>absent</td>\n",
       "      <td>1</td>\n",
       "      <td>2</td>\n",
       "      <td>16</td>\n",
       "    </tr>\n",
       "    <tr>\n",
       "      <th>6</th>\n",
       "      <td>absent</td>\n",
       "      <td>5</td>\n",
       "      <td>2</td>\n",
       "      <td>17</td>\n",
       "    </tr>\n",
       "    <tr>\n",
       "      <th>7</th>\n",
       "      <td>absent</td>\n",
       "      <td>3</td>\n",
       "      <td>3</td>\n",
       "      <td>16</td>\n",
       "    </tr>\n",
       "    <tr>\n",
       "      <th>8</th>\n",
       "      <td>absent</td>\n",
       "      <td>7</td>\n",
       "      <td>2</td>\n",
       "      <td>16</td>\n",
       "    </tr>\n",
       "    <tr>\n",
       "      <th>9</th>\n",
       "      <td>present</td>\n",
       "      <td>4</td>\n",
       "      <td>6</td>\n",
       "      <td>12</td>\n",
       "    </tr>\n",
       "  </tbody>\n",
       "</table>\n",
       "</div>"
      ],
      "text/plain": [
       "         a  b  c   d\n",
       "0   absent  6  3   5\n",
       "1   absent  9  3  14\n",
       "2  present  8  4   5\n",
       "3   absent  2  5   1\n",
       "4   absent  1  4  15\n",
       "5   absent  1  2  16\n",
       "6   absent  5  2  17\n",
       "7   absent  3  3  16\n",
       "8   absent  7  2  16\n",
       "9  present  4  6  12"
      ]
     },
     "execution_count": 112,
     "metadata": {},
     "output_type": "execute_result"
    }
   ],
   "source": [
    "pd_data"
   ]
  },
  {
   "cell_type": "code",
   "execution_count": null,
   "metadata": {},
   "outputs": [],
   "source": []
  },
  {
   "cell_type": "code",
   "execution_count": 113,
   "metadata": {},
   "outputs": [
    {
     "data": {
      "text/html": [
       "<div>\n",
       "<style scoped>\n",
       "    .dataframe tbody tr th:only-of-type {\n",
       "        vertical-align: middle;\n",
       "    }\n",
       "\n",
       "    .dataframe tbody tr th {\n",
       "        vertical-align: top;\n",
       "    }\n",
       "\n",
       "    .dataframe thead th {\n",
       "        text-align: right;\n",
       "    }\n",
       "</style>\n",
       "<table border=\"1\" class=\"dataframe\">\n",
       "  <thead>\n",
       "    <tr style=\"text-align: right;\">\n",
       "      <th></th>\n",
       "      <th>a</th>\n",
       "      <th>b</th>\n",
       "      <th>c</th>\n",
       "      <th>d</th>\n",
       "    </tr>\n",
       "  </thead>\n",
       "  <tbody>\n",
       "    <tr>\n",
       "      <th>4</th>\n",
       "      <td>absent</td>\n",
       "      <td>1</td>\n",
       "      <td>4</td>\n",
       "      <td>15</td>\n",
       "    </tr>\n",
       "    <tr>\n",
       "      <th>5</th>\n",
       "      <td>absent</td>\n",
       "      <td>1</td>\n",
       "      <td>2</td>\n",
       "      <td>16</td>\n",
       "    </tr>\n",
       "    <tr>\n",
       "      <th>3</th>\n",
       "      <td>absent</td>\n",
       "      <td>2</td>\n",
       "      <td>5</td>\n",
       "      <td>1</td>\n",
       "    </tr>\n",
       "    <tr>\n",
       "      <th>7</th>\n",
       "      <td>absent</td>\n",
       "      <td>3</td>\n",
       "      <td>3</td>\n",
       "      <td>16</td>\n",
       "    </tr>\n",
       "    <tr>\n",
       "      <th>9</th>\n",
       "      <td>present</td>\n",
       "      <td>4</td>\n",
       "      <td>6</td>\n",
       "      <td>12</td>\n",
       "    </tr>\n",
       "    <tr>\n",
       "      <th>6</th>\n",
       "      <td>absent</td>\n",
       "      <td>5</td>\n",
       "      <td>2</td>\n",
       "      <td>17</td>\n",
       "    </tr>\n",
       "    <tr>\n",
       "      <th>0</th>\n",
       "      <td>absent</td>\n",
       "      <td>6</td>\n",
       "      <td>3</td>\n",
       "      <td>5</td>\n",
       "    </tr>\n",
       "    <tr>\n",
       "      <th>8</th>\n",
       "      <td>absent</td>\n",
       "      <td>7</td>\n",
       "      <td>2</td>\n",
       "      <td>16</td>\n",
       "    </tr>\n",
       "    <tr>\n",
       "      <th>2</th>\n",
       "      <td>present</td>\n",
       "      <td>8</td>\n",
       "      <td>4</td>\n",
       "      <td>5</td>\n",
       "    </tr>\n",
       "    <tr>\n",
       "      <th>1</th>\n",
       "      <td>absent</td>\n",
       "      <td>9</td>\n",
       "      <td>3</td>\n",
       "      <td>14</td>\n",
       "    </tr>\n",
       "  </tbody>\n",
       "</table>\n",
       "</div>"
      ],
      "text/plain": [
       "         a  b  c   d\n",
       "4   absent  1  4  15\n",
       "5   absent  1  2  16\n",
       "3   absent  2  5   1\n",
       "7   absent  3  3  16\n",
       "9  present  4  6  12\n",
       "6   absent  5  2  17\n",
       "0   absent  6  3   5\n",
       "8   absent  7  2  16\n",
       "2  present  8  4   5\n",
       "1   absent  9  3  14"
      ]
     },
     "execution_count": 113,
     "metadata": {},
     "output_type": "execute_result"
    }
   ],
   "source": [
    "pd_data.sort_values(\"b\")"
   ]
  },
  {
   "cell_type": "code",
   "execution_count": 114,
   "metadata": {},
   "outputs": [],
   "source": [
    "def get_info(df):\n",
    "    riparian = df.loc[df[\"a\"]==\"absent\"]\n",
    "    chapparal = df.loc[df[\"a\"]==\"present\"]\n",
    "\n",
    "    x = np.array([len(riparian)/len(df),len(chapparal)/len(df)])\n",
    "    y = np.log2(x[x!=0])\n",
    "    \n",
    "\n",
    "    info_all = - sum(x[x!=0] * y)\n",
    "    return info_all"
   ]
  },
  {
   "cell_type": "code",
   "execution_count": 115,
   "metadata": {},
   "outputs": [
    {
     "data": {
      "text/plain": [
       "0.7219280948873623"
      ]
     },
     "execution_count": 115,
     "metadata": {},
     "output_type": "execute_result"
    }
   ],
   "source": [
    "get_info(pd_data)\n",
    "# info(D)"
   ]
  },
  {
   "cell_type": "code",
   "execution_count": 116,
   "metadata": {},
   "outputs": [],
   "source": [
    "def get_attribute_info(df, attribute_name, continuous_value=0):\n",
    "    get_infos = []\n",
    "    if continuous_value == 0:\n",
    "        attribute_values = pd_data[attribute_name].unique()\n",
    "        for value in attribute_values:\n",
    "            split_df = pd_data.loc[pd_data[attribute_name] == value]\n",
    "            get_infos.append((len(split_df) / len(df)) * get_info(split_df))\n",
    "    else:\n",
    "        split_df_1 = pd_data.loc[pd_data[attribute_name] >= continuous_value]\n",
    "        split_df_2 = pd_data.loc[pd_data[attribute_name] < continuous_value]\n",
    "\n",
    "        get_infos.append((len(split_df_1) / len(df)) * get_info(split_df_1))                     \n",
    "        get_infos.append((len(split_df_2) / len(df)) * get_info(split_df_2))                     \n",
    "    return sum(get_infos)"
   ]
  },
  {
   "cell_type": "code",
   "execution_count": 117,
   "metadata": {},
   "outputs": [],
   "source": [
    "def get_continuos_attribute_info(df, attribute_name):\n",
    "    result = pd_data.sort_values(attribute_name)\n",
    "    prior = 0 \n",
    "    split_index = []\n",
    "    sorted_key = {}\n",
    "    sorted_index = {}\n",
    "    for index, value in enumerate(result.index):\n",
    "        if prior != result[\"a\"][value]:\n",
    "            split_index.append(value)\n",
    "            prior = result[\"a\"][value]\n",
    "        sorted_index[value] = index\n",
    "        sorted_key[index] = value\n",
    "    split_value = []\n",
    "    for v in split_index[1:]:\n",
    "        current_value = result[attribute_name][v]\n",
    "        prior_value_index = sorted_key[sorted_index[v] - 1]\n",
    "        prior_value = result[attribute_name][prior_value_index]\n",
    "        \n",
    "        split_value_average = current_value + prior_value\n",
    "        split_value.append(str(int(split_value_average)/2))\n",
    "    result = {}\n",
    "    for value in split_value:\n",
    "        result[value] = (get_attribute_info(df, attribute_name, value))\n",
    "    return result"
   ]
  },
  {
   "cell_type": "code",
   "execution_count": null,
   "metadata": {},
   "outputs": [],
   "source": []
  },
  {
   "cell_type": "code",
   "execution_count": 118,
   "metadata": {},
   "outputs": [
    {
     "data": {
      "text/plain": [
       "{'21.5': 0.6041843979966417,\n",
       " '27.0': 0.6041843979966417,\n",
       " '43.5': 0.7219280948873623,\n",
       " '49.0': 0.7219280948873623}"
      ]
     },
     "execution_count": 118,
     "metadata": {},
     "output_type": "execute_result"
    }
   ],
   "source": [
    "get_continuos_attribute_info(pd_data, \"b\")\n",
    "# Info(elec)"
   ]
  },
  {
   "cell_type": "code",
   "execution_count": 119,
   "metadata": {},
   "outputs": [
    {
     "name": "stdout",
     "output_type": "stream",
     "text": [
      "21.5 : 0.11774369689072062\n",
      "27.0 : 0.11774369689072062\n",
      "43.5 : 0.0\n",
      "49.0 : 0.0\n"
     ]
    }
   ],
   "source": [
    "for key, value in get_continuos_attribute_info(pd_data, \"b\").items():\n",
    "    print(key, \":\", get_info(pd_data) - value)\n",
    "# Gain(elec)"
   ]
  },
  {
   "cell_type": "code",
   "execution_count": 120,
   "metadata": {},
   "outputs": [
    {
     "data": {
      "text/plain": [
       "0.5219280948873624"
      ]
     },
     "execution_count": 120,
     "metadata": {},
     "output_type": "execute_result"
    }
   ],
   "source": [
    "get_info(pd_data) - get_attribute_info(pd_data, \"c\")"
   ]
  },
  {
   "cell_type": "code",
   "execution_count": 121,
   "metadata": {},
   "outputs": [
    {
     "data": {
      "text/plain": [
       "0.5219280948873624"
      ]
     },
     "execution_count": 121,
     "metadata": {},
     "output_type": "execute_result"
    }
   ],
   "source": [
    "get_info(pd_data) - get_attribute_info(pd_data, \"d\")"
   ]
  },
  {
   "cell_type": "code",
   "execution_count": null,
   "metadata": {},
   "outputs": [],
   "source": []
  },
  {
   "cell_type": "code",
   "execution_count": null,
   "metadata": {},
   "outputs": [],
   "source": []
  }
 ],
 "metadata": {
  "anaconda-cloud": {},
  "kernelspec": {
   "display_name": "Python 3",
   "language": "python",
   "name": "python3"
  },
  "language_info": {
   "codemirror_mode": {
    "name": "ipython",
    "version": 3
   },
   "file_extension": ".py",
   "mimetype": "text/x-python",
   "name": "python",
   "nbconvert_exporter": "python",
   "pygments_lexer": "ipython3",
   "version": "3.7.3"
  }
 },
 "nbformat": 4,
 "nbformat_minor": 2
}
